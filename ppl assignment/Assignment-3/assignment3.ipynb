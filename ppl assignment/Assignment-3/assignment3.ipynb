{
 "cells": [
  {
   "cell_type": "code",
   "execution_count": 49,
   "metadata": {},
   "outputs": [
    {
     "name": "stdout",
     "output_type": "stream",
     "text": [
      "314.0\n"
     ]
    }
   ],
   "source": [
    "from abc import ABC, abstractmethod\n",
    "\n",
    "class Circle(object):\n",
    "    pi = 3.14\n",
    "\n",
    "    # Circle get instantiated with a radius (default is 1)\n",
    "    def __init__(self, radius=1):\n",
    "        self.__radius = radius #private variable\n",
    "\n",
    "    # Area method calculates the area. Note the use of self.\n",
    "    def area(self):\n",
    "        return self.__radius * self.__radius * Circle.pi\n",
    "\n",
    "    # Method for resetting Radius\n",
    "    \n",
    "    def setRadius(self, radius):\n",
    "        self.__radius = radius\n",
    "\n",
    "    # Method for getting radius (Same as just calling .radius)\n",
    "    def getRadius(self):\n",
    "        return self.__radius\n",
    "        \n",
    "        \n",
    "class RegularPolygon(object):\n",
    "    pi = 3.14\n",
    "\n",
    "    def __init__(self, side = 1):\n",
    "        self.side = side\n",
    "\n",
    "    def area(self):\n",
    "        print(\"Area of object is\")\n",
    "\n",
    "    def perimeter(self):\n",
    "        print(\"Permeter of object is\")\n",
    "\n",
    "    def setSide(self, side):\n",
    "        self.side = side\n",
    "\n",
    "    def getSide(self):\n",
    "        return self.side\n",
    "        \n",
    "class Polygon(ABC):\n",
    "    def noofsides(self):\n",
    "        pass\n",
    "\n",
    "\n",
    "class Square(RegularPolygon, Polygon):\n",
    "    def __init__(self, side = 1):\n",
    "       RegularPolygon.__init__(self, side)\n",
    "\n",
    "    def area(self):\n",
    "        RegularPolygon.area(self)\n",
    "        print(self.side ** 2)\n",
    "        return self.side**2\n",
    "\n",
    "    def perimeter(self):\n",
    "        RegularPolygon.perimeter(self)\n",
    "        print(self.side * 4)\n",
    "        return self.side*4\n",
    "\n",
    "    def setSide(self, side):\n",
    "        RegularPolygon.setSide(self)\n",
    "\n",
    "    def getSide(self):\n",
    "        RegularPolygon.getSide(self)\n",
    "\n",
    "    def noofsides(self):\n",
    "        print(\"I have 4 sides\")\n",
    "\n",
    "class EquilateralTriangle(RegularPolygon, Polygon):\n",
    "    def __init__(self, side = 1):\n",
    "       RegularPolygon.__init__(self, side)\n",
    "\n",
    "    def area(self):\n",
    "        RegularPolygon.area(self)\n",
    "        area = ((3**(1/2))/4) * self.side**2\n",
    "        print(area)\n",
    "        return area\n",
    "\n",
    "    def perimeter(self):\n",
    "        RegularPolygon.perimeter(self)\n",
    "        print(self.side * 3)\n",
    "        return self.side*3\n",
    "\n",
    "    def setSide(self, side):\n",
    "        RegularPolygon.setSide(self)\n",
    "\n",
    "    def getSide(self):\n",
    "        RegularPolygon.getSide(self)\n",
    "\n",
    "    def noofsides(self):\n",
    "        print(\"I have 3 sides\")\n",
    "\n",
    "class Rhombus(Square, Polygon):\n",
    "    def __init__(self, diagonal1, diagonal2, side = 1):\n",
    "        RegularPolygon.__init__(self, side)\n",
    "        self.diagonal1 = diagonal1\n",
    "        self.diagonal2 = diagonal2\n",
    "\n",
    "    def area(self):\n",
    "        RegularPolygon.area(self)\n",
    "        Area = 1/2 * self.diagonal1* self.diagonal2\n",
    "        print(Area)\n",
    "        return Area\n",
    "\n",
    "    def perimeter(self):\n",
    "        RegularPolygon.perimeter(self)\n",
    "        print(self.side * 4)\n",
    "        return self.side*4\n",
    "\n",
    "    def set(self, side, diagonal1, diagonal2):\n",
    "        RegularPolygon.setSide(self)\n",
    "        self.diagonal1 = diagonal1\n",
    "        self.diagonal2 = diagonal2\n",
    "\n",
    "\n",
    "    def get(self):\n",
    "        RegularPolygon.getSide(self)\n",
    "        return  self.diagonal1\n",
    "        return  self.diagonal2\n",
    "\n",
    "    def noofsides(self):\n",
    "        print(\"I have 4 sides\")\n",
    "\n",
    "\n",
    "class Rectangle( Polygon):\n",
    "   def __init__(self, length = 1, breadth = 1):\n",
    "        self.length = length\n",
    "        self.breadth = breadth\n",
    "\n",
    "   def area(self):\n",
    "        Area = self.length * self.breadth\n",
    "        print(\"Area of rectangle:\", Area)\n",
    "        return Area\n",
    "\n",
    "   def perimeter(self):\n",
    "        Perimeter = 2 * (self.length + self.breadth)\n",
    "        print(\"Perimeter of rectangle: \", Perimeter)\n",
    "        return Perimeter\n",
    "\n",
    "   def set(self, side, diagonal1, diagonal2):\n",
    "        self.length = length\n",
    "        self.breadth = breadth\n",
    "\n",
    "\n",
    "   def get(self):\n",
    "        return self.length\n",
    "        return self.breadth\n",
    "\n",
    "   def noofsides(self):\n",
    "        print(\"I have 4 sides\")\n",
    "\n",
    "class Parallelogram( Polygon):\n",
    "   def __init__(self, base = 1, heigth = 1, side = 1):\n",
    "        self.base = base\n",
    "        self.heigth = heigth\n",
    "        self.side = side\n",
    "\n",
    "   def area(self):\n",
    "        Area = self.base * self.heigth\n",
    "        print(\"Area of parallelogram:\", Area)\n",
    "        return Area\n",
    "\n",
    "   def perimeter(self):\n",
    "        Perimeter = 2 * (self.base + self.side)\n",
    "        print(\"Perimeter of rectangle: \", Perimeter)\n",
    "        return Perimeter\n",
    "   def noofsides(self):\n",
    "        print(\"I have 4 sides\")\n",
    "        \n",
    "        \n",
    "        \n",
    "        \n",
    "Parent  classs\n",
    "class IsoscelesTriangle(object):\n",
    "   def __init__(self, side = 1, base = 1, height = 1):\n",
    "        self._base = base\n",
    "        self._heigth = heigth\n",
    "        self._side = side\n",
    "\n",
    "   def  area(self):\n",
    "        Area = 1/2 * self.base * self.heigth\n",
    "        print(Area)\n",
    "        return Area\n",
    "\n",
    "   def perimeter(self):\n",
    "        Perimeter = 2*side + base\n",
    "        print(Perimeter)\n",
    "        return Perimeter\n",
    "\n",
    "class ScaleneTriangle(IsoscelesTriangle):\n",
    "   def __init__(self, side1 = 1,side2 = 1, base = 1, height = 1):\n",
    "        self.base = base\n",
    "        self.heigth = heigth\n",
    "        self.side1 = side1\n",
    "        self.side2 = side2\n",
    "\n",
    "   def  area(self):\n",
    "        IsoscelesTriangle.area(self)\n",
    "\n",
    "   def perimeter(self):\n",
    "        Perimeter = side1 + side2 + base\n",
    "        print(Perimeter)\n",
    "        return Perimeter\n",
    "\n",
    "\n",
    "C = Circle(10)\n",
    "print(C.area())"
   ]
  },
  {
   "cell_type": "code",
   "execution_count": 53,
   "metadata": {},
   "outputs": [
    {
     "data": {
      "text/plain": [
       "10"
      ]
     },
     "execution_count": 53,
     "metadata": {},
     "output_type": "execute_result"
    }
   ],
   "source": [
    "C.__radius =20 # public variable has no direct acess\n",
    "C.getRadius()"
   ]
  },
  {
   "cell_type": "code",
   "execution_count": 56,
   "metadata": {},
   "outputs": [
    {
     "data": {
      "text/plain": [
       "30"
      ]
     },
     "execution_count": 56,
     "metadata": {},
     "output_type": "execute_result"
    }
   ],
   "source": [
    "C.setRadius(30)\n",
    "C.getRadius()"
   ]
  },
  {
   "cell_type": "code",
   "execution_count": 59,
   "metadata": {},
   "outputs": [
    {
     "name": "stdout",
     "output_type": "stream",
     "text": [
      "Area of object is\n",
      "225\n"
     ]
    },
    {
     "data": {
      "text/plain": [
       "225"
      ]
     },
     "execution_count": 59,
     "metadata": {},
     "output_type": "execute_result"
    }
   ],
   "source": [
    "s = Square(15)\n",
    "s.area()"
   ]
  },
  {
   "cell_type": "code",
   "execution_count": 60,
   "metadata": {},
   "outputs": [
    {
     "name": "stdout",
     "output_type": "stream",
     "text": [
      "Area of object is\n",
      "100\n"
     ]
    },
    {
     "data": {
      "text/plain": [
       "100"
      ]
     },
     "execution_count": 60,
     "metadata": {},
     "output_type": "execute_result"
    }
   ],
   "source": [
    "s.side = 10 #public variable have public access\n",
    "s.area()"
   ]
  },
  {
   "cell_type": "code",
   "execution_count": null,
   "metadata": {},
   "outputs": [],
   "source": []
  },
  {
   "cell_type": "code",
   "execution_count": 10,
   "metadata": {},
   "outputs": [
    {
     "name": "stdout",
     "output_type": "stream",
     "text": [
      "Animal created\n",
      "Lion created\n",
      "Lion\n",
      "Roar\n"
     ]
    }
   ],
   "source": [
    "#abstract class\n",
    "class Animal(object):\n",
    "    def __init__(self,l=4,e=\"black\",f=\"black\"):\n",
    "        print (\"Animal created\")\n",
    "        self.legs = 4\n",
    "        self._eyecolor = e #protected variable\n",
    "        self.__furrcolor = f #private variable\n",
    "       \n",
    "    def setLegs(self, n):\n",
    "        self.__legs = n\n",
    "    def getLegs(self):\n",
    "        return self.__legs\n",
    "    def speak(self):\n",
    "        print(\"meow\")\n",
    "    def setEyecolor(self, f):\n",
    "        self._eyecolor = f\n",
    "    def getEyecolor(self):\n",
    "        return self._eyecolor\n",
    "    def getFurrcolor(self):\n",
    "        return self.__furrcolor\n",
    "    def setFurrcolor(self, f):\n",
    "        self.__furrcolor = f\n",
    "\n",
    "\n",
    "    def whoAmI(self):\n",
    "        print (\"Animal\")\n",
    "\n",
    "    def eat(self):\n",
    "        print (\"Eating\")\n",
    "\n",
    "\n",
    "class Dog(Animal):\n",
    "    def __init__(self):\n",
    "        Animal.__init__(self)\n",
    "        print (\"Dog created\")\n",
    "\n",
    "    def whoAmI(self):\n",
    "        print (\"Dog\")\n",
    "\n",
    "    def speaks(self):\n",
    "        print (\"Woof!\")\n",
    "\n",
    "class Cat(Animal):\n",
    "    def __init__(self):\n",
    "        Animal.__init__(self)\n",
    "        print(\"Cat created\")\n",
    "\n",
    "    def whoAmI(self):\n",
    "        print(\"Cat\")\n",
    "\n",
    "    def speaks(self):\n",
    "        print(\"Meow!\")\n",
    "\n",
    "class Panda(Animal):\n",
    "    def __init__(self):\n",
    "        Animal.__init__(self)\n",
    "        print(\"Panada created\")\n",
    "\n",
    "    def whoamI(self) :\n",
    "        print(\"Panda\")\n",
    "\n",
    "    def speaks(self):\n",
    "        print(\"Squeaking\")\n",
    "\n",
    "class Bear(Animal):\n",
    "    def __init__(self):\n",
    "        Animal.__init__(self)\n",
    "        print(\"Bear created\")\n",
    "\n",
    "    def whoamI(self) :\n",
    "        print(\"Bear\")\n",
    "\n",
    "    def speaks(self):\n",
    "        print(\"Growl\")\n",
    "\n",
    "class Camel(Animal):\n",
    "    def __init__(self):\n",
    "        Animal.__init__(self)\n",
    "        print(\"Camel created\")\n",
    "\n",
    "    def whoamI(self) :\n",
    "        print(\"Camel\")\n",
    "\n",
    "    def speaks(self):\n",
    "        print(\"Grunt\")\n",
    "\n",
    "class Deer(Animal):\n",
    "    def __init__(self):\n",
    "        Animal.__init__(self)\n",
    "        print(\"Deer created\")\n",
    "\n",
    "    def whoamI(self) :\n",
    "        print(\"Deer\")\n",
    "\n",
    "    def speaks(self):\n",
    "        print(\"Bell\")\n",
    "\n",
    "class Donkey(Animal):\n",
    "    def __init__(self):\n",
    "        Animal.__init__(self)\n",
    "        print(\"Donkey created\")\n",
    "\n",
    "    def whoamI(self) :\n",
    "        print(\"Donkey\")\n",
    "\n",
    "    def speaks(self):\n",
    "        print(\"Bray\")\n",
    "\n",
    "class Horse(Animal):\n",
    "    def __init__(self):\n",
    "        Animal.__init__(self)\n",
    "        print(\"Horse created\")\n",
    "\n",
    "    def whoamI(self) :\n",
    "        print(\"Horse\")\n",
    "\n",
    "    def speaks(self):\n",
    "        print(\"Neigh\")\n",
    "\n",
    "class Jackals(Animal):\n",
    "    def __init__(self):\n",
    "        Animal.__init__(self)\n",
    "        print(\"Jackal created\")\n",
    "\n",
    "    def whoamI(self) :\n",
    "        print(\"Jackal\")\n",
    "\n",
    "    def speaks(self):\n",
    "        print(\"Howl\")\n",
    "\n",
    "class Lion(Animal):\n",
    "    def __init__(self):\n",
    "        Animal.__init__(self)\n",
    "        print(\"Lion created\")\n",
    "\n",
    "    def whoamI(self) :\n",
    "        print(\"Lion\")\n",
    "\n",
    "    def speaks(self):\n",
    "        print(\"Roar\")\n",
    "\n",
    "L = Lion()\n",
    "L.whoamI()\n",
    "L.speaks()\n"
   ]
  },
  {
   "cell_type": "code",
   "execution_count": 11,
   "metadata": {},
   "outputs": [
    {
     "name": "stdout",
     "output_type": "stream",
     "text": [
      "Animal created\n",
      "Cat created\n"
     ]
    }
   ],
   "source": [
    "c = Cat()"
   ]
  },
  {
   "cell_type": "code",
   "execution_count": 18,
   "metadata": {},
   "outputs": [
    {
     "data": {
      "text/plain": [
       "1"
      ]
     },
     "execution_count": 18,
     "metadata": {},
     "output_type": "execute_result"
    }
   ],
   "source": [
    "c.legs=1 #public variable can be axcessed directly\n",
    "c.getLegs()\n"
   ]
  },
  {
   "cell_type": "code",
   "execution_count": null,
   "metadata": {},
   "outputs": [],
   "source": []
  },
  {
   "cell_type": "code",
   "execution_count": 14,
   "metadata": {},
   "outputs": [
    {
     "data": {
      "text/plain": [
       "'red'"
      ]
     },
     "execution_count": 14,
     "metadata": {},
     "output_type": "execute_result"
    }
   ],
   "source": [
    "c._eyecolor ='red' # protected variable can be acessed\n",
    "c.getEyecolor()"
   ]
  },
  {
   "cell_type": "code",
   "execution_count": 21,
   "metadata": {},
   "outputs": [
    {
     "name": "stdout",
     "output_type": "stream",
     "text": [
      "Animal created\n",
      "Horse created\n"
     ]
    }
   ],
   "source": [
    "h = Horse()\n"
   ]
  },
  {
   "cell_type": "code",
   "execution_count": 39,
   "metadata": {},
   "outputs": [
    {
     "data": {
      "text/plain": [
       "'red'"
      ]
     },
     "execution_count": 39,
     "metadata": {},
     "output_type": "execute_result"
    }
   ],
   "source": []
  },
  {
   "cell_type": "code",
   "execution_count": 33,
   "metadata": {},
   "outputs": [
    {
     "data": {
      "text/plain": [
       "'black'"
      ]
     },
     "execution_count": 33,
     "metadata": {},
     "output_type": "execute_result"
    }
   ],
   "source": [
    "h._Animal__furrcolor # private class cannot be axcessed directly\n"
   ]
  },
  {
   "cell_type": "code",
   "execution_count": 40,
   "metadata": {},
   "outputs": [],
   "source": [
    "h.__furrcolor = \"red\""
   ]
  },
  {
   "cell_type": "code",
   "execution_count": 41,
   "metadata": {},
   "outputs": [
    {
     "data": {
      "text/plain": [
       "'black'"
      ]
     },
     "execution_count": 41,
     "metadata": {},
     "output_type": "execute_result"
    }
   ],
   "source": [
    "h.getFurrcolor()"
   ]
  },
  {
   "cell_type": "code",
   "execution_count": 42,
   "metadata": {},
   "outputs": [],
   "source": [
    "h.setFurrcolor(\"white\") # private variable are only acess through class func and this is called as encapsulation"
   ]
  },
  {
   "cell_type": "code",
   "execution_count": 43,
   "metadata": {},
   "outputs": [
    {
     "data": {
      "text/plain": [
       "'white'"
      ]
     },
     "execution_count": 43,
     "metadata": {},
     "output_type": "execute_result"
    }
   ],
   "source": [
    "h.getFurrcolor()"
   ]
  },
  {
   "cell_type": "code",
   "execution_count": null,
   "metadata": {},
   "outputs": [],
   "source": []
  }
 ],
 "metadata": {
  "kernelspec": {
   "display_name": "Python 3",
   "language": "python",
   "name": "python3"
  },
  "language_info": {
   "codemirror_mode": {
    "name": "ipython",
    "version": 3
   },
   "file_extension": ".py",
   "mimetype": "text/x-python",
   "name": "python",
   "nbconvert_exporter": "python",
   "pygments_lexer": "ipython3",
   "version": "3.7.6"
  }
 },
 "nbformat": 4,
 "nbformat_minor": 4
}
